{
 "cells": [
  {
   "cell_type": "markdown",
   "metadata": {},
   "source": [
    "# Ejercicio 1"
   ]
  },
  {
   "cell_type": "code",
   "execution_count": null,
   "metadata": {},
   "outputs": [],
   "source": [
    "asteroide = 49\n",
    "\n",
    "if asteroide > 25:\n",
    "    print('Alerta, un asteoride se acerca a la tierra, ve a un refugio')\n",
    "else:\n",
    "    print('Todo bien, sigue con tu día')"
   ]
  },
  {
   "cell_type": "markdown",
   "metadata": {},
   "source": [
    "# Ejercisio 2"
   ]
  },
  {
   "cell_type": "code",
   "execution_count": null,
   "metadata": {},
   "outputs": [],
   "source": [
    "asteroide = 19\n",
    "\n",
    "if asteroide > 20:\n",
    "    print('¡Mira arriba! Hay una luz en el cielo')\n",
    "elif asteroide == 20:\n",
    "    print('¡Mira arriba! Hay una luz en el cielo')\n",
    "else:\n",
    "    print('Todo bien, sigue con tu día')"
   ]
  },
  {
   "cell_type": "markdown",
   "metadata": {},
   "source": [
    "# Ejercicio 3"
   ]
  },
  {
   "cell_type": "code",
   "execution_count": null,
   "metadata": {},
   "outputs": [],
   "source": [
    "tamano_asteroide = 25\n",
    "velocidad_asteroide = 40\n",
    "\n",
    "if velocidad_asteroide = 25 and velocidad_asteroide > 25:\n",
    "    print:('¡Alerta, un asteroide de gran tamaño se acerca a la tierra')\n",
    "elif velocidad_asteroide >= 20:\n",
    "    print:('¡Mira arriba! Hay una luz en el cielo')\n",
    "elif tamano_asteroide < 25:\n",
    "    print:('Todo bien, sigue con tu día')\n",
    "else\n",
    "    print:('Todo bien, sigue con tu día')"
   ]
  }
 ],
 "metadata": {
  "interpreter": {
   "hash": "49ee0e70af0b2756f670918aea0851dac003008b7e1b7950797e49a20c17d59a"
  },
  "kernelspec": {
   "display_name": "Python 3.10.2 64-bit",
   "language": "python",
   "name": "python3"
  },
  "language_info": {
   "codemirror_mode": {
    "name": "ipython",
    "version": 3
   },
   "file_extension": ".py",
   "mimetype": "text/x-python",
   "name": "python",
   "nbconvert_exporter": "python",
   "pygments_lexer": "ipython3",
   "version": "3.10.2"
  },
  "orig_nbformat": 4
 },
 "nbformat": 4,
 "nbformat_minor": 2
}
